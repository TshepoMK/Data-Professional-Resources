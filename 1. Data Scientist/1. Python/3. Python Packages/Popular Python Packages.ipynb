# 1. Visualing Packages

pip install seaborn
pip install matlploblib
