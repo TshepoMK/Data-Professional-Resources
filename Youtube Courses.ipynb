{
 "cells": [
  {
   "cell_type": "markdown",
   "id": "13e24e9a",
   "metadata": {},
   "source": [
    "# 1. Programming"
   ]
  },
  {
   "cell_type": "markdown",
   "id": "8c6b765d",
   "metadata": {},
   "source": [
    " 1. Learn Python - Full Course for Beginners [Tutorial] https://youtu.be/rfscVS0vtbw\n",
    "\n",
    " 2. Natural Language Processing with spaCy & Python - Course for Beginners: https://youtu.be/dIUTsFT2MeQ\n",
    " 3. SQL Tutorial - Full Database Course for Beginners https://youtu.be/HXV3zeQKqGY"
   ]
  },
  {
   "cell_type": "markdown",
   "id": "43cbd6b7",
   "metadata": {},
   "source": [
    "# 2. Visualization"
   ]
  },
  {
   "cell_type": "markdown",
   "id": "1dcb1ae3",
   "metadata": {},
   "source": [
    "* 1. Data Visualization with D3.js - Full Tutorial Course: https://youtu.be/_8V5o2UHG0E"
   ]
  },
  {
   "cell_type": "markdown",
   "id": "f2e15fcd",
   "metadata": {},
   "source": [
    "# 3. Cloud Computing"
   ]
  }
 ],
 "metadata": {
  "kernelspec": {
   "display_name": "Python 3",
   "language": "python",
   "name": "python3"
  },
  "language_info": {
   "codemirror_mode": {
    "name": "ipython",
    "version": 3
   },
   "file_extension": ".py",
   "mimetype": "text/x-python",
   "name": "python",
   "nbconvert_exporter": "python",
   "pygments_lexer": "ipython3",
   "version": "3.8.8"
  }
 },
 "nbformat": 4,
 "nbformat_minor": 5
}
