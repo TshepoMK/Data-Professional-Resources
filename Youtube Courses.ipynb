{
 "cells": [
  {
   "cell_type": "markdown",
   "id": "1dcee9d4",
   "metadata": {},
   "source": [
    "# 1. Programming"
   ]
  },
  {
   "cell_type": "markdown",
   "id": "954e8bbe",
   "metadata": {},
   "source": [
    "* 1. Learn Python - Full Course for Beginners [Tutorial] https://youtu.be/rfscVS0vtbw\n",
    "\n",
    "* 2. Natural Language Processing with spaCy & Python - Course for Beginners: https://youtu.be/dIUTsFT2MeQ\n",
    "* https://youtu.be/HXV3zeQKqGY"
   ]
  },
  {
   "cell_type": "markdown",
   "id": "3d27e862",
   "metadata": {},
   "source": [
    "# 2. Visualization"
   ]
  },
  {
   "cell_type": "markdown",
   "id": "b5cdc717",
   "metadata": {},
   "source": [
    "* 1. Data Visualization with D3.js - Full Tutorial Course: https://youtu.be/_8V5o2UHG0E"
   ]
  },
  {
   "cell_type": "markdown",
   "id": "849a8a8f",
   "metadata": {},
   "source": [
    "# 3. Cloud Computing"
   ]
  },
  {
   "cell_type": "code",
   "execution_count": null,
   "id": "eedde53c",
   "metadata": {},
   "outputs": [],
   "source": []
  },
  {
   "cell_type": "code",
   "execution_count": null,
   "id": "755fdcef",
   "metadata": {},
   "outputs": [],
   "source": []
  },
  {
   "cell_type": "code",
   "execution_count": null,
   "id": "c786f7f2",
   "metadata": {},
   "outputs": [],
   "source": []
  },
  {
   "cell_type": "code",
   "execution_count": null,
   "id": "59f3428c",
   "metadata": {},
   "outputs": [],
   "source": []
  }
 ],
 "metadata": {
  "kernelspec": {
   "display_name": "Python 3",
   "language": "python",
   "name": "python3"
  },
  "language_info": {
   "codemirror_mode": {
    "name": "ipython",
    "version": 3
   },
   "file_extension": ".py",
   "mimetype": "text/x-python",
   "name": "python",
   "nbconvert_exporter": "python",
   "pygments_lexer": "ipython3",
   "version": "3.8.8"
  }
 },
 "nbformat": 4,
 "nbformat_minor": 5
}
